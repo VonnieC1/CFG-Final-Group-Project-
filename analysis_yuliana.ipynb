{
 "cells": [
  {
   "cell_type": "markdown",
   "metadata": {},
   "source": [
    "Broader dataset which lists summary statistics for ethnic groups related to Covid 19"
   ]
  },
  {
   "cell_type": "code",
   "execution_count": 2,
   "metadata": {},
   "outputs": [
    {
     "data": {
      "text/html": [
       "<div>\n",
       "<style scoped>\n",
       "    .dataframe tbody tr th:only-of-type {\n",
       "        vertical-align: middle;\n",
       "    }\n",
       "\n",
       "    .dataframe tbody tr th {\n",
       "        vertical-align: top;\n",
       "    }\n",
       "\n",
       "    .dataframe thead th {\n",
       "        text-align: right;\n",
       "    }\n",
       "</style>\n",
       "<table border=\"1\" class=\"dataframe\">\n",
       "  <thead>\n",
       "    <tr style=\"text-align: right;\">\n",
       "      <th></th>\n",
       "      <th>Ethnic group</th>\n",
       "      <th>Sex</th>\n",
       "      <th>Number of deaths</th>\n",
       "      <th>ASMR</th>\n",
       "      <th>Lower 95% confidence limit</th>\n",
       "      <th>Upper 95% confidence limit</th>\n",
       "    </tr>\n",
       "  </thead>\n",
       "  <tbody>\n",
       "    <tr>\n",
       "      <th>0</th>\n",
       "      <td>Bangladeshi</td>\n",
       "      <td>Male</td>\n",
       "      <td>686</td>\n",
       "      <td>720.470037</td>\n",
       "      <td>655.646560</td>\n",
       "      <td>785.293513</td>\n",
       "    </tr>\n",
       "    <tr>\n",
       "      <th>1</th>\n",
       "      <td>Black African</td>\n",
       "      <td>Male</td>\n",
       "      <td>724</td>\n",
       "      <td>398.406077</td>\n",
       "      <td>357.698897</td>\n",
       "      <td>439.113257</td>\n",
       "    </tr>\n",
       "    <tr>\n",
       "      <th>2</th>\n",
       "      <td>Black Caribbean</td>\n",
       "      <td>Male</td>\n",
       "      <td>1398</td>\n",
       "      <td>413.789035</td>\n",
       "      <td>390.456533</td>\n",
       "      <td>437.121537</td>\n",
       "    </tr>\n",
       "    <tr>\n",
       "      <th>3</th>\n",
       "      <td>Chinese</td>\n",
       "      <td>Male</td>\n",
       "      <td>222</td>\n",
       "      <td>212.665564</td>\n",
       "      <td>181.795694</td>\n",
       "      <td>243.535434</td>\n",
       "    </tr>\n",
       "    <tr>\n",
       "      <th>4</th>\n",
       "      <td>Indian</td>\n",
       "      <td>Male</td>\n",
       "      <td>2146</td>\n",
       "      <td>321.348942</td>\n",
       "      <td>306.306312</td>\n",
       "      <td>336.391572</td>\n",
       "    </tr>\n",
       "    <tr>\n",
       "      <th>5</th>\n",
       "      <td>Mixed</td>\n",
       "      <td>Male</td>\n",
       "      <td>433</td>\n",
       "      <td>272.487753</td>\n",
       "      <td>243.951692</td>\n",
       "      <td>301.023814</td>\n",
       "    </tr>\n",
       "    <tr>\n",
       "      <th>6</th>\n",
       "      <td>Other</td>\n",
       "      <td>Male</td>\n",
       "      <td>1339</td>\n",
       "      <td>305.655612</td>\n",
       "      <td>286.419389</td>\n",
       "      <td>324.891834</td>\n",
       "    </tr>\n",
       "    <tr>\n",
       "      <th>7</th>\n",
       "      <td>Pakistani</td>\n",
       "      <td>Male</td>\n",
       "      <td>1731</td>\n",
       "      <td>524.476424</td>\n",
       "      <td>496.802804</td>\n",
       "      <td>552.150044</td>\n",
       "    </tr>\n",
       "    <tr>\n",
       "      <th>8</th>\n",
       "      <td>White British</td>\n",
       "      <td>Male</td>\n",
       "      <td>61866</td>\n",
       "      <td>201.963253</td>\n",
       "      <td>200.314187</td>\n",
       "      <td>203.612319</td>\n",
       "    </tr>\n",
       "    <tr>\n",
       "      <th>9</th>\n",
       "      <td>White other</td>\n",
       "      <td>Male</td>\n",
       "      <td>2506</td>\n",
       "      <td>232.523321</td>\n",
       "      <td>222.899505</td>\n",
       "      <td>242.147136</td>\n",
       "    </tr>\n",
       "    <tr>\n",
       "      <th>10</th>\n",
       "      <td>Bangladeshi</td>\n",
       "      <td>Female</td>\n",
       "      <td>398</td>\n",
       "      <td>349.162266</td>\n",
       "      <td>310.061048</td>\n",
       "      <td>388.263484</td>\n",
       "    </tr>\n",
       "    <tr>\n",
       "      <th>11</th>\n",
       "      <td>Black African</td>\n",
       "      <td>Female</td>\n",
       "      <td>458</td>\n",
       "      <td>185.232950</td>\n",
       "      <td>163.247510</td>\n",
       "      <td>207.218391</td>\n",
       "    </tr>\n",
       "    <tr>\n",
       "      <th>12</th>\n",
       "      <td>Black Caribbean</td>\n",
       "      <td>Female</td>\n",
       "      <td>993</td>\n",
       "      <td>210.583081</td>\n",
       "      <td>196.928025</td>\n",
       "      <td>224.238136</td>\n",
       "    </tr>\n",
       "    <tr>\n",
       "      <th>13</th>\n",
       "      <td>Chinese</td>\n",
       "      <td>Female</td>\n",
       "      <td>159</td>\n",
       "      <td>130.817101</td>\n",
       "      <td>109.082804</td>\n",
       "      <td>152.551397</td>\n",
       "    </tr>\n",
       "    <tr>\n",
       "      <th>14</th>\n",
       "      <td>Indian</td>\n",
       "      <td>Female</td>\n",
       "      <td>1302</td>\n",
       "      <td>180.825710</td>\n",
       "      <td>170.478932</td>\n",
       "      <td>191.172488</td>\n",
       "    </tr>\n",
       "    <tr>\n",
       "      <th>15</th>\n",
       "      <td>Mixed</td>\n",
       "      <td>Female</td>\n",
       "      <td>368</td>\n",
       "      <td>174.981691</td>\n",
       "      <td>155.445353</td>\n",
       "      <td>194.518029</td>\n",
       "    </tr>\n",
       "    <tr>\n",
       "      <th>16</th>\n",
       "      <td>Other</td>\n",
       "      <td>Female</td>\n",
       "      <td>886</td>\n",
       "      <td>186.152552</td>\n",
       "      <td>172.573045</td>\n",
       "      <td>199.732059</td>\n",
       "    </tr>\n",
       "    <tr>\n",
       "      <th>17</th>\n",
       "      <td>Pakistani</td>\n",
       "      <td>Female</td>\n",
       "      <td>971</td>\n",
       "      <td>289.707925</td>\n",
       "      <td>269.562484</td>\n",
       "      <td>309.853365</td>\n",
       "    </tr>\n",
       "    <tr>\n",
       "      <th>18</th>\n",
       "      <td>White British</td>\n",
       "      <td>Female</td>\n",
       "      <td>53573</td>\n",
       "      <td>126.079440</td>\n",
       "      <td>125.006437</td>\n",
       "      <td>127.152444</td>\n",
       "    </tr>\n",
       "    <tr>\n",
       "      <th>19</th>\n",
       "      <td>White other</td>\n",
       "      <td>Female</td>\n",
       "      <td>2123</td>\n",
       "      <td>120.120488</td>\n",
       "      <td>114.970064</td>\n",
       "      <td>125.270913</td>\n",
       "    </tr>\n",
       "  </tbody>\n",
       "</table>\n",
       "</div>"
      ],
      "text/plain": [
       "       Ethnic group     Sex  Number of deaths        ASMR  \\\n",
       "0       Bangladeshi    Male               686  720.470037   \n",
       "1     Black African    Male               724  398.406077   \n",
       "2   Black Caribbean    Male              1398  413.789035   \n",
       "3           Chinese    Male               222  212.665564   \n",
       "4            Indian    Male              2146  321.348942   \n",
       "5             Mixed    Male               433  272.487753   \n",
       "6             Other    Male              1339  305.655612   \n",
       "7         Pakistani    Male              1731  524.476424   \n",
       "8     White British    Male             61866  201.963253   \n",
       "9       White other    Male              2506  232.523321   \n",
       "10      Bangladeshi  Female               398  349.162266   \n",
       "11    Black African  Female               458  185.232950   \n",
       "12  Black Caribbean  Female               993  210.583081   \n",
       "13          Chinese  Female               159  130.817101   \n",
       "14           Indian  Female              1302  180.825710   \n",
       "15            Mixed  Female               368  174.981691   \n",
       "16            Other  Female               886  186.152552   \n",
       "17        Pakistani  Female               971  289.707925   \n",
       "18    White British  Female             53573  126.079440   \n",
       "19      White other  Female              2123  120.120488   \n",
       "\n",
       "    Lower 95% confidence limit  Upper 95% confidence limit  \n",
       "0                   655.646560                  785.293513  \n",
       "1                   357.698897                  439.113257  \n",
       "2                   390.456533                  437.121537  \n",
       "3                   181.795694                  243.535434  \n",
       "4                   306.306312                  336.391572  \n",
       "5                   243.951692                  301.023814  \n",
       "6                   286.419389                  324.891834  \n",
       "7                   496.802804                  552.150044  \n",
       "8                   200.314187                  203.612319  \n",
       "9                   222.899505                  242.147136  \n",
       "10                  310.061048                  388.263484  \n",
       "11                  163.247510                  207.218391  \n",
       "12                  196.928025                  224.238136  \n",
       "13                  109.082804                  152.551397  \n",
       "14                  170.478932                  191.172488  \n",
       "15                  155.445353                  194.518029  \n",
       "16                  172.573045                  199.732059  \n",
       "17                  269.562484                  309.853365  \n",
       "18                  125.006437                  127.152444  \n",
       "19                  114.970064                  125.270913  "
      ]
     },
     "execution_count": 2,
     "metadata": {},
     "output_type": "execute_result"
    }
   ],
   "source": [
    "import pandas as pd\n",
    "#file ethnic groups\n",
    "ethnic_group_corona = pd.read_excel(\"https://github.com/VonnieC1/CFG-Final-Group-Project-/blob/main/Copy%20of%20coronavirusrelateddeathsbyethnicgroupengland24jan2020to16feb2022.xlsx?raw=true\", sheet_name = 'Sheet2')\n",
    "ethnic_group_corona\n"
   ]
  },
  {
   "cell_type": "code",
   "execution_count": null,
   "metadata": {},
   "outputs": [
    {
     "data": {
      "text/html": [
       "<div>\n",
       "<style scoped>\n",
       "    .dataframe tbody tr th:only-of-type {\n",
       "        vertical-align: middle;\n",
       "    }\n",
       "\n",
       "    .dataframe tbody tr th {\n",
       "        vertical-align: top;\n",
       "    }\n",
       "\n",
       "    .dataframe thead th {\n",
       "        text-align: right;\n",
       "    }\n",
       "</style>\n",
       "<table border=\"1\" class=\"dataframe\">\n",
       "  <thead>\n",
       "    <tr style=\"text-align: right;\">\n",
       "      <th></th>\n",
       "      <th>Number of deaths</th>\n",
       "      <th>ASMR</th>\n",
       "      <th>Lower 95% confidence limit</th>\n",
       "      <th>Upper 95% confidence limit</th>\n",
       "    </tr>\n",
       "  </thead>\n",
       "  <tbody>\n",
       "    <tr>\n",
       "      <th>count</th>\n",
       "      <td>20.000000</td>\n",
       "      <td>20.000000</td>\n",
       "      <td>20.000000</td>\n",
       "      <td>20.000000</td>\n",
       "    </tr>\n",
       "    <tr>\n",
       "      <th>mean</th>\n",
       "      <td>6714.100000</td>\n",
       "      <td>277.872461</td>\n",
       "      <td>256.482364</td>\n",
       "      <td>299.262558</td>\n",
       "    </tr>\n",
       "    <tr>\n",
       "      <th>std</th>\n",
       "      <td>17508.180319</td>\n",
       "      <td>148.814801</td>\n",
       "      <td>137.197825</td>\n",
       "      <td>160.985638</td>\n",
       "    </tr>\n",
       "    <tr>\n",
       "      <th>min</th>\n",
       "      <td>159.000000</td>\n",
       "      <td>120.120488</td>\n",
       "      <td>109.082804</td>\n",
       "      <td>125.270913</td>\n",
       "    </tr>\n",
       "    <tr>\n",
       "      <th>25%</th>\n",
       "      <td>451.750000</td>\n",
       "      <td>184.131140</td>\n",
       "      <td>168.671076</td>\n",
       "      <td>198.428551</td>\n",
       "    </tr>\n",
       "    <tr>\n",
       "      <th>50%</th>\n",
       "      <td>982.000000</td>\n",
       "      <td>222.594442</td>\n",
       "      <td>211.606846</td>\n",
       "      <td>242.841285</td>\n",
       "    </tr>\n",
       "    <tr>\n",
       "      <th>75%</th>\n",
       "      <td>1829.000000</td>\n",
       "      <td>328.302273</td>\n",
       "      <td>307.244996</td>\n",
       "      <td>349.359550</td>\n",
       "    </tr>\n",
       "    <tr>\n",
       "      <th>max</th>\n",
       "      <td>61866.000000</td>\n",
       "      <td>720.470037</td>\n",
       "      <td>655.646560</td>\n",
       "      <td>785.293513</td>\n",
       "    </tr>\n",
       "  </tbody>\n",
       "</table>\n",
       "</div>"
      ],
      "text/plain": [
       "       Number of deaths        ASMR  Lower 95% confidence limit  \\\n",
       "count         20.000000   20.000000                   20.000000   \n",
       "mean        6714.100000  277.872461                  256.482364   \n",
       "std        17508.180319  148.814801                  137.197825   \n",
       "min          159.000000  120.120488                  109.082804   \n",
       "25%          451.750000  184.131140                  168.671076   \n",
       "50%          982.000000  222.594442                  211.606846   \n",
       "75%         1829.000000  328.302273                  307.244996   \n",
       "max        61866.000000  720.470037                  655.646560   \n",
       "\n",
       "       Upper 95% confidence limit  \n",
       "count                   20.000000  \n",
       "mean                   299.262558  \n",
       "std                    160.985638  \n",
       "min                    125.270913  \n",
       "25%                    198.428551  \n",
       "50%                    242.841285  \n",
       "75%                    349.359550  \n",
       "max                    785.293513  "
      ]
     },
     "metadata": {},
     "output_type": "display_data"
    }
   ],
   "source": [
    "ethnic_group_corona.describe()\n"
   ]
  },
  {
   "cell_type": "code",
   "execution_count": null,
   "metadata": {},
   "outputs": [
    {
     "data": {
      "text/plain": [
       "Ethnic group\n",
       "Bangladeshi          1084\n",
       "Black African        1182\n",
       "Black Caribbean      2391\n",
       "Chinese               381\n",
       "Indian               3448\n",
       "Mixed                 801\n",
       "Other                2225\n",
       "Pakistani            2702\n",
       "White British      115439\n",
       "White other          4629\n",
       "Name: Number of deaths, dtype: int64"
      ]
     },
     "metadata": {},
     "output_type": "display_data"
    }
   ],
   "source": [
    "import matplotlib \n",
    "import matplotlib.pyplot as plt\n",
    "ethnic_group_corona.groupby(['Ethnic group'])['Number of deaths'].sum()"
   ]
  },
  {
   "cell_type": "code",
   "execution_count": null,
   "metadata": {},
   "outputs": [
    {
     "data": {
      "text/plain": [
       "Ethnic group\n",
       "Chinese               381\n",
       "Mixed                 801\n",
       "Bangladeshi          1084\n",
       "Black African        1182\n",
       "Other                2225\n",
       "Black Caribbean      2391\n",
       "Pakistani            2702\n",
       "Indian               3448\n",
       "White other          4629\n",
       "White British      115439\n",
       "Name: Number of deaths, dtype: int64"
      ]
     },
     "metadata": {},
     "output_type": "display_data"
    }
   ],
   "source": [
    "import matplotlib \n",
    "import matplotlib.pyplot as plt\n",
    "import numpy as np\n",
    "df= ethnic_group_corona.groupby(['Ethnic group'])['Number of deaths'].sum().sort_values(ascending=True)\n",
    "xticks='Chinese','Mixed','Bangladeshi','Black African','Other','Black Caribbean','Pakistani','Indian','White other','White British')\n",
    "d.set_xticks(np.arange(0, 10, 1))\n",
    "df.set_xticklabels('Chinese','Mixed','Bangladeshi','Black African','Other','Black Caribbean','Pakistani','Indian','White other','White British')\n",
    "\n",
    "df"
   ]
  },
  {
   "cell_type": "code",
   "execution_count": 9,
   "metadata": {},
   "outputs": [
    {
     "data": {
      "text/plain": [
       "<AxesSubplot: title={'center': 'Deaths by ethnic group'}, xlabel='Ethnic group', ylabel='Number of deaths'>"
      ]
     },
     "execution_count": 9,
     "metadata": {},
     "output_type": "execute_result"
    },
    {
     "data": {
      "image/png": "[encoded data removed]",
      "text/plain": [
       "<Figure size 640x480 with 1 Axes>"
      ]
     },
     "metadata": {},
     "output_type": "display_data"
    }
   ],
   "source": [
    "import matplotlib \n",
    "import matplotlib.pyplot as plt\n",
    "ethnic_group_corona.groupby(['Ethnic group'])['Number of deaths'].sum().sort_values(ascending=True).plot(xlabel='Ethnic group', ylabel='Number of deaths', title='Deaths by ethnic group')"
   ]
  },
  {
   "cell_type": "markdown",
   "metadata": {},
   "source": [
    "As we see from the plot, White British and White other ethnic groups are showing higher number of deaths in comparison with others, which leads to the conclusion that white ethnicity is more prone to die of covid.\n",
    "The least number of deaths are among Chinese ethnicity. "
   ]
  },
  {
   "cell_type": "code",
   "execution_count": 7,
   "metadata": {},
   "outputs": [
    {
     "data": {
      "text/plain": [
       "<AxesSubplot: title={'center': 'Deaths by sex'}, xlabel='Sex', ylabel='Number of deaths'>"
      ]
     },
     "execution_count": 7,
     "metadata": {},
     "output_type": "execute_result"
    },
    {
     "data": {
      "image/png": "[encoded data removed]",
      "text/plain": [
       "<Figure size 640x480 with 1 Axes>"
      ]
     },
     "metadata": {},
     "output_type": "display_data"
    }
   ],
   "source": [
    "from matplotlib.pyplot import xlabel, ylabel\n",
    "\n",
    "\n",
    "df = ethnic_group_corona.groupby(['Sex'])['Number of deaths'].sum().sort_values(ascending=True)\n",
    "df.plot.bar(xlabel='Sex', ylabel='Number of deaths', title='Deaths by sex', width=1, edgecolor=\"white\", linewidth=0.7)\n"
   ]
  },
  {
   "cell_type": "markdown",
   "metadata": {},
   "source": [
    "If we are comparing the male and female, it is clearly visible that female die more out of covid, rather than man."
   ]
  }
 ],
 "metadata": {
  "kernelspec": {
   "display_name": "Python 3.10.2 64-bit",
   "language": "python",
   "name": "python3"
  },
  "language_info": {
   "codemirror_mode": {
    "name": "ipython",
    "version": 3
   },
   "file_extension": ".py",
   "mimetype": "text/x-python",
   "name": "python",
   "nbconvert_exporter": "python",
   "pygments_lexer": "ipython3",
   "version": "3.10.2"
  },
  "orig_nbformat": 4,
  "vscode": {
   "interpreter": {
    "hash": "aee8b7b246df8f9039afb4144a1f6fd8d2ca17a180786b69acc140d282b71a49"
   }
  }
 },
 "nbformat": 4,
 "nbformat_minor": 2
}
